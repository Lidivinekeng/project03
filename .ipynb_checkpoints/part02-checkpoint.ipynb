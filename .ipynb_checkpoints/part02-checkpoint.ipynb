{
 "cells": [
  {
   "cell_type": "code",
   "execution_count": 1,
   "id": "0692e4e1",
   "metadata": {},
   "outputs": [],
   "source": [
    "# Standard Imports\n",
    "import numpy as np\n",
    "import pandas as pd\n",
    "import matplotlib.pyplot as plt\n",
    "import seaborn as sns\n",
    "import requests\n",
    "\n",
    "# Additional Imports\n",
    "# os - for saving and loading files\n",
    "# json - to work with json files\n",
    "# math - to round up results\n",
    "# time - to add a short pause to not overwhelm the server\n",
    "import os, json, math, time\n",
    "\n",
    "# to make yelpapi calls\n",
    "from yelpapi import YelpAPI\n",
    "import tmdbsimple as tmdb\n",
    "\n",
    "# progress bar from tqdm_notebook\n",
    "from tqdm.notebook import tqdm_notebook"
   ]
  },
  {
   "cell_type": "code",
   "execution_count": 2,
   "id": "21c778ae",
   "metadata": {},
   "outputs": [
    {
     "name": "stdout",
     "output_type": "stream",
     "text": [
      "Requirement already satisfied: tmdbsimple in c:\\users\\lidiv\\anaconda3\\lib\\site-packages (2.9.1)\n",
      "Requirement already satisfied: requests in c:\\users\\lidiv\\anaconda3\\lib\\site-packages (from tmdbsimple) (2.31.0)\n",
      "Requirement already satisfied: charset-normalizer<4,>=2 in c:\\users\\lidiv\\anaconda3\\lib\\site-packages (from requests->tmdbsimple) (2.0.4)\n",
      "Requirement already satisfied: idna<4,>=2.5 in c:\\users\\lidiv\\anaconda3\\lib\\site-packages (from requests->tmdbsimple) (3.4)\n",
      "Requirement already satisfied: urllib3<3,>=1.21.1 in c:\\users\\lidiv\\anaconda3\\lib\\site-packages (from requests->tmdbsimple) (1.26.16)\n",
      "Requirement already satisfied: certifi>=2017.4.17 in c:\\users\\lidiv\\anaconda3\\lib\\site-packages (from requests->tmdbsimple) (2023.7.22)\n",
      "Note: you may need to restart the kernel to use updated packages.\n"
     ]
    }
   ],
   "source": [
    "pip install tmdbsimple"
   ]
  },
  {
   "cell_type": "code",
   "execution_count": 3,
   "id": "98d0b252",
   "metadata": {},
   "outputs": [
    {
     "data": {
      "text/plain": [
       "dict_keys(['API Read Access Token', 'api-key'])"
      ]
     },
     "execution_count": 3,
     "metadata": {},
     "output_type": "execute_result"
    }
   ],
   "source": [
    "import json\n",
    "with open('/Users/lidiv/.secret/tmdb_api.json') as f: \n",
    "    login = json.load(f)\n",
    "login.keys()"
   ]
  },
  {
   "cell_type": "code",
   "execution_count": 4,
   "id": "51aeac98",
   "metadata": {},
   "outputs": [],
   "source": [
    "# InstantiateAPI Variable\n",
    "tmdb_api_key= login['api-key']"
   ]
  },
  {
   "cell_type": "code",
   "execution_count": 8,
   "id": "4ba1abb0",
   "metadata": {},
   "outputs": [],
   "source": [
    "filtered_df1 = pd.read_csv(r'\\Users\\lidiv\\project03\\project3\\Data/title_basic_filtered.csv.gz', compression='gzip', low_memory=False)\n",
    "filtered_df2 = pd.read_csv(r'\\Users\\lidiv\\project03\\project3\\Data/title_rating_filtered.csv.gz', compression='gzip', low_memory=False)\n",
    "filtered_df3 = pd.read_csv(r'\\Users\\lidiv\\project03\\project3\\Data/title_akas_filtereds.csv.gz', compression='gzip', low_memory=False)"
   ]
  },
  {
   "cell_type": "code",
   "execution_count": 9,
   "id": "98d0b305",
   "metadata": {},
   "outputs": [],
   "source": [
    "# Function to make TMDB API calls and retrieve financial data\n",
    "def get_movie_info(movie_id):\n",
    "    url = f\"https://api.themoviedb.org/3/movie/{movie_id}?api_key={tmdb_api_key}&language=en-US\"\n",
    "    response = requests.get(url)\n",
    "    if response.status_code == 200:\n",
    "        data = response.json()\n",
    "        return {\n",
    "            'movie_id': movie_id,\n",
    "            'budget': data.get('budget', 0),\n",
    "            'revenue': data.get('revenue', 0),\n",
    "            'certification': data.get('certification', 'N/A')\n",
    "        }\n",
    "    else:\n",
    "        return {\n",
    "            'movie_id': movie_id,\n",
    "            'budget': 0,\n",
    "            'revenue': 0,\n",
    "            'certification': 'N/A'\n",
    "        }"
   ]
  },
  {
   "cell_type": "code",
   "execution_count": 10,
   "id": "09137b40",
   "metadata": {},
   "outputs": [],
   "source": [
    "# Create empty lists to store results for each year\n",
    "results_2000 = []\n",
    "results_2001 = []"
   ]
  },
  {
   "cell_type": "code",
   "execution_count": null,
   "id": "43bef086",
   "metadata": {},
   "outputs": [],
   "source": [
    "# Loop through filtered_df1 and filtered_df2 and retrieve financial data\n",
    "for index, row in filtered_df1.iterrows():\n",
    "    if row['startYear'] == 2000 or row['startYear'] == 2001:\n",
    "        movie_info = get_movie_info(row['tconst'])\n",
    "        if row['startYear'] == 2000:\n",
    "            results_2000.append(movie_info)\n",
    "        elif row['startYear'] == 2001:\n",
    "            results_2001.append(movie_info)\n",
    "\n",
    "for index, row in filtered_df2.iterrows():\n",
    "    if row['startYear'] == 2000 or row['startYear'] == 2001:\n",
    "        movie_info = get_movie_info(row['tconst'])\n",
    "        if row['startYear'] == 2000:\n",
    "            results_2000.append(movie_info)\n",
    "        elif row['startYear'] == 2001:\n",
    "            results_2001.append(movie_info)\n"
   ]
  },
  {
   "cell_type": "code",
   "execution_count": null,
   "id": "e3e5e6d1",
   "metadata": {},
   "outputs": [],
   "source": [
    "# Create DataFrames for each year\n",
    "df_2000 = pd.DataFrame(results_2000)\n",
    "df_2001 = pd.DataFrame(results_2001)\n"
   ]
  },
  {
   "cell_type": "code",
   "execution_count": null,
   "id": "9d6b418e",
   "metadata": {},
   "outputs": [],
   "source": [
    "# Save the results as separate CSV files\n",
    "df_2000.to_csv('tmdb_results_2000.csv.gz', index=False, compression='gzip')\n",
    "df_2001.to_csv('tmdb_results_2001.csv.gz', index=False, compression='gzip')"
   ]
  },
  {
   "cell_type": "code",
   "execution_count": null,
   "id": "de788be0",
   "metadata": {},
   "outputs": [],
   "source": [
    "# Concatenate the data into one DataFrame for EDA\n",
    "combined_df = pd.concat([df_2000, df_2001], ignore_index=True)"
   ]
  },
  {
   "cell_type": "code",
   "execution_count": null,
   "id": "b8a1298b",
   "metadata": {},
   "outputs": [],
   "source": [
    "# EDA tasks\n",
    "# Count movies with valid financial information (exclude 0s for budget and revenue)\n",
    "valid_financial_data = combined_df[(combined_df['budget'] > 0) | (combined_df['revenue'] > 0)]"
   ]
  },
  {
   "cell_type": "code",
   "execution_count": null,
   "id": "24602d05",
   "metadata": {},
   "outputs": [],
   "source": [
    "# Filter movies with budget or revenue > 0\n",
    "valid_financial_df = combined_df[(combined_df['budget'] > 0) | (combined_df['revenue'] > 0)]\n",
    "\n",
    "# Calculate the number of movies with valid financial information\n",
    "num_movies_with_valid_financial_info = len(valid_financial_df)\n"
   ]
  },
  {
   "cell_type": "code",
   "execution_count": null,
   "id": "160f8912",
   "metadata": {},
   "outputs": [],
   "source": [
    "num_movies_with_valid_financial_info"
   ]
  },
  {
   "cell_type": "code",
   "execution_count": null,
   "id": "d2d5de2a",
   "metadata": {},
   "outputs": [],
   "source": [
    "# Count movies in each certification category\n",
    "certification_counts = combined_df['certification'].value_counts()"
   ]
  },
  {
   "cell_type": "code",
   "execution_count": null,
   "id": "8288a9d4",
   "metadata": {},
   "outputs": [],
   "source": [
    "certification_counts"
   ]
  },
  {
   "cell_type": "code",
   "execution_count": null,
   "id": "6f4ac0fe",
   "metadata": {},
   "outputs": [],
   "source": [
    "# Group the data by certification and calculate the average revenue and budget\n",
    "certification_stats = combined_df.groupby('certification').agg({'revenue': 'mean', 'budget': 'mean'})\n"
   ]
  },
  {
   "cell_type": "code",
   "execution_count": null,
   "id": "47ad32ec",
   "metadata": {},
   "outputs": [],
   "source": [
    "certification_stats"
   ]
  },
  {
   "cell_type": "code",
   "execution_count": null,
   "id": "98be6b29",
   "metadata": {},
   "outputs": [],
   "source": [
    "# Calculate average revenue and budget per certification category\n",
    "average_revenue_by_cert = combined_df.groupby('certification')['revenue'].mean()\n",
    "average_budget_by_cert = combined_df.groupby('certification')['budget'].mean()"
   ]
  },
  {
   "cell_type": "code",
   "execution_count": null,
   "id": "b4deeec4",
   "metadata": {},
   "outputs": [],
   "source": [
    "average_revenue_by_cert"
   ]
  },
  {
   "cell_type": "code",
   "execution_count": null,
   "id": "6edaebdc",
   "metadata": {},
   "outputs": [],
   "source": [
    "average_budget_by_cert"
   ]
  },
  {
   "cell_type": "code",
   "execution_count": null,
   "id": "2b6d8dd2",
   "metadata": {},
   "outputs": [],
   "source": [
    "# Save the final merged CSV file\n",
    "combined_df.to_csv('tmdb_results_combined.csv.gz', index=False, compression='gzip')"
   ]
  },
  {
   "cell_type": "code",
   "execution_count": null,
   "id": "172d74b1",
   "metadata": {},
   "outputs": [],
   "source": []
  }
 ],
 "metadata": {
  "kernelspec": {
   "display_name": "Python 3 (ipykernel)",
   "language": "python",
   "name": "python3"
  },
  "language_info": {
   "codemirror_mode": {
    "name": "ipython",
    "version": 3
   },
   "file_extension": ".py",
   "mimetype": "text/x-python",
   "name": "python",
   "nbconvert_exporter": "python",
   "pygments_lexer": "ipython3",
   "version": "3.11.4"
  },
  "toc": {
   "base_numbering": 1,
   "nav_menu": {},
   "number_sections": false,
   "sideBar": true,
   "skip_h1_title": false,
   "title_cell": "Table of Contents",
   "title_sidebar": "Contents",
   "toc_cell": false,
   "toc_position": {},
   "toc_section_display": true,
   "toc_window_display": false
  }
 },
 "nbformat": 4,
 "nbformat_minor": 5
}
