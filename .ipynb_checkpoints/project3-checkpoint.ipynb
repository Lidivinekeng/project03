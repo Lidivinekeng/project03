{
 "cells": [
  {
   "cell_type": "code",
   "execution_count": 1,
   "id": "c5cbe355",
   "metadata": {},
   "outputs": [],
   "source": [
    "import pandas as pd\n",
    "\n"
   ]
  },
  {
   "cell_type": "code",
   "execution_count": 2,
   "id": "65747723",
   "metadata": {},
   "outputs": [],
   "source": [
    "# Load the data into Pandas DataFrames\n",
    "basics_df = pd.read_csv('/Users/lidiv/project03/title.basics.tsv.gz', sep='\\t', low_memory=False)\n",
    "ratings_df = pd.read_csv('/Users/lidiv/project03/title.ratings.tsv.gz', sep='\\t', low_memory=False)\n",
    "akas_df = pd.read_csv('/Users/lidiv/project03/title.akas.tsv.gz', sep='\\t', low_memory=False)\n",
    "\n"
   ]
  },
  {
   "cell_type": "code",
   "execution_count": 3,
   "id": "7a990b65",
   "metadata": {},
   "outputs": [
    {
     "name": "stdout",
     "output_type": "stream",
     "text": [
      "Index(['titleId', 'ordering', 'title', 'region', 'language', 'types',\n",
      "       'attributes', 'isOriginalTitle'],\n",
      "      dtype='object')\n",
      "Index(['tconst', 'titleType', 'primaryTitle', 'originalTitle', 'isAdult',\n",
      "       'startYear', 'endYear', 'runtimeMinutes', 'genres'],\n",
      "      dtype='object')\n",
      "            tconst  averageRating  numVotes\n",
      "0        tt0000001            5.7      1993\n",
      "1        tt0000002            5.8       268\n",
      "2        tt0000003            6.5      1879\n",
      "3        tt0000004            5.5       177\n",
      "4        tt0000005            6.2      2663\n",
      "...            ...            ...       ...\n",
      "1351315  tt9916730            8.3        10\n",
      "1351316  tt9916766            7.0        22\n",
      "1351317  tt9916778            7.2        36\n",
      "1351318  tt9916840            8.8         6\n",
      "1351319  tt9916880            8.2         6\n",
      "\n",
      "[1351320 rows x 3 columns]\n"
     ]
    }
   ],
   "source": [
    "print(akas_df.columns)\n",
    "print(basics_df.columns)\n",
    "print(ratings_df)"
   ]
  },
  {
   "cell_type": "code",
   "execution_count": 4,
   "id": "92bbdc98",
   "metadata": {},
   "outputs": [],
   "source": [
    "#Merge the two DataFrames on 'titleId' (akas_df) and 'tconst' (basics_df)\n",
    "merged_df = akas_df.merge(basics_df, left_on='titleId', right_on='tconst', how='inner')\n"
   ]
  },
  {
   "cell_type": "code",
   "execution_count": 5,
   "id": "a43da45e",
   "metadata": {},
   "outputs": [],
   "source": [
    "# Filter for movies released in the United States\n",
    "merged_df = merged_df[merged_df['region'] == 'US']\n"
   ]
  },
  {
   "cell_type": "code",
   "execution_count": 6,
   "id": "f3d81bed",
   "metadata": {},
   "outputs": [],
   "source": [
    "# Convert the 'startYear' column to numeric, handling '\\\\N' as NaN\n",
    "merged_df['startYear'] = pd.to_numeric(merged_df['startYear'], errors='coerce')\n"
   ]
  },
  {
   "cell_type": "code",
   "execution_count": 7,
   "id": "6652e309",
   "metadata": {},
   "outputs": [],
   "source": [
    "# Filter for movies released between 2000 and 2021 (inclusive)\n",
    "us_movies_df = merged_df[(merged_df['startYear'] >= 2000) & (merged_df['startYear'] <= 2021)]"
   ]
  },
  {
   "cell_type": "code",
   "execution_count": 9,
   "id": "8dd765d0",
   "metadata": {},
   "outputs": [],
   "source": [
    "# Reset the index of the 'us_movies_df' DataFrame\n",
    "us_movies_df.reset_index(drop=True, inplace=True)"
   ]
  },
  {
   "cell_type": "code",
   "execution_count": 10,
   "id": "b3e76c58",
   "metadata": {},
   "outputs": [],
   "source": [
    "# Include only full-length movies\n",
    "us_movies_df = us_movies_df.loc[basics_df['titleType'] == 'movie']\n",
    "\n"
   ]
  },
  {
   "cell_type": "code",
   "execution_count": 11,
   "id": "a46e27ef",
   "metadata": {},
   "outputs": [],
   "source": [
    "# Exclude movies with missing values for genre or runtime\n",
    "us_movies_df = us_movies_df.dropna(subset=['genres', 'runtimeMinutes'])\n",
    "\n"
   ]
  },
  {
   "cell_type": "code",
   "execution_count": 12,
   "id": "fb6e81d7",
   "metadata": {},
   "outputs": [],
   "source": [
    "# Exclude movies from the Documentary genre\n",
    "us_movies_df = us_movies_df[~us_movies_df['genres'].str.contains('Documentary')]\n",
    "\n"
   ]
  },
  {
   "cell_type": "code",
   "execution_count": 13,
   "id": "14b07a85",
   "metadata": {},
   "outputs": [
    {
     "data": {
      "text/html": [
       "<div>\n",
       "<style scoped>\n",
       "    .dataframe tbody tr th:only-of-type {\n",
       "        vertical-align: middle;\n",
       "    }\n",
       "\n",
       "    .dataframe tbody tr th {\n",
       "        vertical-align: top;\n",
       "    }\n",
       "\n",
       "    .dataframe thead th {\n",
       "        text-align: right;\n",
       "    }\n",
       "</style>\n",
       "<table border=\"1\" class=\"dataframe\">\n",
       "  <thead>\n",
       "    <tr style=\"text-align: right;\">\n",
       "      <th></th>\n",
       "      <th>titleId</th>\n",
       "      <th>ordering</th>\n",
       "      <th>title</th>\n",
       "      <th>region</th>\n",
       "      <th>language</th>\n",
       "      <th>types</th>\n",
       "      <th>attributes</th>\n",
       "      <th>isOriginalTitle</th>\n",
       "      <th>tconst</th>\n",
       "      <th>titleType</th>\n",
       "      <th>primaryTitle</th>\n",
       "      <th>originalTitle</th>\n",
       "      <th>isAdult</th>\n",
       "      <th>startYear</th>\n",
       "      <th>endYear</th>\n",
       "      <th>runtimeMinutes</th>\n",
       "      <th>genres</th>\n",
       "    </tr>\n",
       "  </thead>\n",
       "  <tbody>\n",
       "    <tr>\n",
       "      <th>8</th>\n",
       "      <td>tt0069049</td>\n",
       "      <td>3</td>\n",
       "      <td>The Other Side of the Wind</td>\n",
       "      <td>US</td>\n",
       "      <td>\\N</td>\n",
       "      <td>imdbDisplay</td>\n",
       "      <td>\\N</td>\n",
       "      <td>0</td>\n",
       "      <td>tt0069049</td>\n",
       "      <td>movie</td>\n",
       "      <td>The Other Side of the Wind</td>\n",
       "      <td>The Other Side of the Wind</td>\n",
       "      <td>0</td>\n",
       "      <td>2018.0</td>\n",
       "      <td>\\N</td>\n",
       "      <td>122</td>\n",
       "      <td>Drama</td>\n",
       "    </tr>\n",
       "    <tr>\n",
       "      <th>144</th>\n",
       "      <td>tt0121803</td>\n",
       "      <td>3</td>\n",
       "      <td>Letting Go</td>\n",
       "      <td>US</td>\n",
       "      <td>\\N</td>\n",
       "      <td>imdbDisplay</td>\n",
       "      <td>\\N</td>\n",
       "      <td>0</td>\n",
       "      <td>tt0121803</td>\n",
       "      <td>tvMovie</td>\n",
       "      <td>Letting Go</td>\n",
       "      <td>Letting Go</td>\n",
       "      <td>0</td>\n",
       "      <td>2004.0</td>\n",
       "      <td>\\N</td>\n",
       "      <td>\\N</td>\n",
       "      <td>Action,Drama</td>\n",
       "    </tr>\n",
       "    <tr>\n",
       "      <th>498</th>\n",
       "      <td>tt0162030</td>\n",
       "      <td>1</td>\n",
       "      <td>Unseen</td>\n",
       "      <td>US</td>\n",
       "      <td>\\N</td>\n",
       "      <td>\\N</td>\n",
       "      <td>cable TV title</td>\n",
       "      <td>0</td>\n",
       "      <td>tt0162030</td>\n",
       "      <td>movie</td>\n",
       "      <td>Unseen Evil</td>\n",
       "      <td>Unseen Evil</td>\n",
       "      <td>0</td>\n",
       "      <td>2001.0</td>\n",
       "      <td>\\N</td>\n",
       "      <td>93</td>\n",
       "      <td>Horror,Sci-Fi,Thriller</td>\n",
       "    </tr>\n",
       "    <tr>\n",
       "      <th>570</th>\n",
       "      <td>tt0165800</td>\n",
       "      <td>8</td>\n",
       "      <td>Brutal Truth</td>\n",
       "      <td>US</td>\n",
       "      <td>\\N</td>\n",
       "      <td>dvd</td>\n",
       "      <td>\\N</td>\n",
       "      <td>0</td>\n",
       "      <td>tt0165800</td>\n",
       "      <td>movie</td>\n",
       "      <td>The Giving Tree</td>\n",
       "      <td>The Giving Tree</td>\n",
       "      <td>0</td>\n",
       "      <td>2000.0</td>\n",
       "      <td>\\N</td>\n",
       "      <td>89</td>\n",
       "      <td>Drama,Thriller</td>\n",
       "    </tr>\n",
       "    <tr>\n",
       "      <th>587</th>\n",
       "      <td>tt0166192</td>\n",
       "      <td>4</td>\n",
       "      <td>Finding Kelly</td>\n",
       "      <td>US</td>\n",
       "      <td>\\N</td>\n",
       "      <td>imdbDisplay</td>\n",
       "      <td>\\N</td>\n",
       "      <td>0</td>\n",
       "      <td>tt0166192</td>\n",
       "      <td>movie</td>\n",
       "      <td>Finding Kelly</td>\n",
       "      <td>Finding Kelly</td>\n",
       "      <td>0</td>\n",
       "      <td>2000.0</td>\n",
       "      <td>\\N</td>\n",
       "      <td>88</td>\n",
       "      <td>Comedy,Family,Mystery</td>\n",
       "    </tr>\n",
       "  </tbody>\n",
       "</table>\n",
       "</div>"
      ],
      "text/plain": [
       "       titleId  ordering                       title region language  \\\n",
       "8    tt0069049         3  The Other Side of the Wind     US       \\N   \n",
       "144  tt0121803         3                  Letting Go     US       \\N   \n",
       "498  tt0162030         1                      Unseen     US       \\N   \n",
       "570  tt0165800         8                Brutal Truth     US       \\N   \n",
       "587  tt0166192         4               Finding Kelly     US       \\N   \n",
       "\n",
       "           types      attributes isOriginalTitle     tconst titleType  \\\n",
       "8    imdbDisplay              \\N               0  tt0069049     movie   \n",
       "144  imdbDisplay              \\N               0  tt0121803   tvMovie   \n",
       "498           \\N  cable TV title               0  tt0162030     movie   \n",
       "570          dvd              \\N               0  tt0165800     movie   \n",
       "587  imdbDisplay              \\N               0  tt0166192     movie   \n",
       "\n",
       "                   primaryTitle               originalTitle isAdult  \\\n",
       "8    The Other Side of the Wind  The Other Side of the Wind       0   \n",
       "144                  Letting Go                  Letting Go       0   \n",
       "498                 Unseen Evil                 Unseen Evil       0   \n",
       "570             The Giving Tree             The Giving Tree       0   \n",
       "587               Finding Kelly               Finding Kelly       0   \n",
       "\n",
       "     startYear endYear runtimeMinutes                  genres  \n",
       "8       2018.0      \\N            122                   Drama  \n",
       "144     2004.0      \\N             \\N            Action,Drama  \n",
       "498     2001.0      \\N             93  Horror,Sci-Fi,Thriller  \n",
       "570     2000.0      \\N             89          Drama,Thriller  \n",
       "587     2000.0      \\N             88   Comedy,Family,Mystery  "
      ]
     },
     "execution_count": 13,
     "metadata": {},
     "output_type": "execute_result"
    }
   ],
   "source": [
    "us_movies_df.head()"
   ]
  },
  {
   "cell_type": "code",
   "execution_count": 14,
   "id": "aeed6261",
   "metadata": {},
   "outputs": [],
   "source": [
    "\n",
    "# Save the filtered DataFrame as a gzip-compressed CSV file\n",
    "us_movies_df.to_csv('us_movies_filtered.csv.gz', compression='gzip', index=False)\n"
   ]
  },
  {
   "cell_type": "code",
   "execution_count": null,
   "id": "72335b70",
   "metadata": {},
   "outputs": [],
   "source": []
  }
 ],
 "metadata": {
  "kernelspec": {
   "display_name": "Python 3 (ipykernel)",
   "language": "python",
   "name": "python3"
  },
  "language_info": {
   "codemirror_mode": {
    "name": "ipython",
    "version": 3
   },
   "file_extension": ".py",
   "mimetype": "text/x-python",
   "name": "python",
   "nbconvert_exporter": "python",
   "pygments_lexer": "ipython3",
   "version": "3.11.4"
  },
  "toc": {
   "base_numbering": 1,
   "nav_menu": {},
   "number_sections": false,
   "sideBar": true,
   "skip_h1_title": false,
   "title_cell": "Table of Contents",
   "title_sidebar": "Contents",
   "toc_cell": false,
   "toc_position": {},
   "toc_section_display": true,
   "toc_window_display": false
  }
 },
 "nbformat": 4,
 "nbformat_minor": 5
}
