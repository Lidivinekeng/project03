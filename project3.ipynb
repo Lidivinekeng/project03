{
 "cells": [
  {
   "cell_type": "code",
   "execution_count": 1,
   "id": "c5cbe355",
   "metadata": {},
   "outputs": [],
   "source": [
    "import pandas as pd\n",
    "\n"
   ]
  },
  {
   "cell_type": "code",
   "execution_count": 2,
   "id": "65747723",
   "metadata": {},
   "outputs": [],
   "source": [
    "# Load the data into Pandas DataFrames\n",
    "basics_df = pd.read_csv('/Users/lidiv/project03/title.basics.tsv.gz', sep='\\t', low_memory=False)\n",
    "ratings_df = pd.read_csv('/Users/lidiv/project03/title.ratings.tsv.gz', sep='\\t', low_memory=False)\n",
    "akas_df = pd.read_csv('/Users/lidiv/project03/title.akas.tsv.gz', sep='\\t', low_memory=False)\n",
    "\n"
   ]
  },
  {
   "cell_type": "code",
   "execution_count": 3,
   "id": "7a990b65",
   "metadata": {},
   "outputs": [
    {
     "name": "stdout",
     "output_type": "stream",
     "text": [
      "Index(['titleId', 'ordering', 'title', 'region', 'language', 'types',\n",
      "       'attributes', 'isOriginalTitle'],\n",
      "      dtype='object')\n",
      "Index(['tconst', 'titleType', 'primaryTitle', 'originalTitle', 'isAdult',\n",
      "       'startYear', 'endYear', 'runtimeMinutes', 'genres'],\n",
      "      dtype='object')\n",
      "            tconst  averageRating  numVotes\n",
      "0        tt0000001            5.7      1993\n",
      "1        tt0000002            5.8       268\n",
      "2        tt0000003            6.5      1879\n",
      "3        tt0000004            5.5       177\n",
      "4        tt0000005            6.2      2663\n",
      "...            ...            ...       ...\n",
      "1351315  tt9916730            8.3        10\n",
      "1351316  tt9916766            7.0        22\n",
      "1351317  tt9916778            7.2        36\n",
      "1351318  tt9916840            8.8         6\n",
      "1351319  tt9916880            8.2         6\n",
      "\n",
      "[1351320 rows x 3 columns]\n"
     ]
    }
   ],
   "source": [
    "print(akas_df.columns)\n",
    "print(basics_df.columns)\n",
    "print(ratings_df)"
   ]
  },
  {
   "cell_type": "code",
   "execution_count": 4,
   "id": "92bbdc98",
   "metadata": {},
   "outputs": [],
   "source": [
    "# Include only US movies\n",
    "us_movies_df = akas_df[akas_df['region'] == 'US']\n"
   ]
  },
  {
   "cell_type": "code",
   "execution_count": 9,
   "id": "c745f42f",
   "metadata": {},
   "outputs": [],
   "source": [
    "# Convert 'startYear' column in 'basics_df' to integers\n",
    "basics_df['startYear'] = pd.to_numeric(basics_df['startYear'], errors='coerce')"
   ]
  },
  {
   "cell_type": "code",
   "execution_count": 10,
   "id": "a43da45e",
   "metadata": {},
   "outputs": [],
   "source": [
    "# Filter 'basics_df' for movies released between 2000 and 2021 (inclusive)\n",
    "us_movies_df = us_movies_df[us_movies_df['titleId'].isin(basics_df[(basics_df['startYear'] >= 2000) & (basics_df['startYear'] <= 2021)]['tconst'])]\n"
   ]
  },
  {
   "cell_type": "code",
   "execution_count": 13,
   "id": "b3e76c58",
   "metadata": {},
   "outputs": [],
   "source": [
    "# Filter for full-length movies (titleType = \"movie\")\n",
    "us_movies_df = us_movies_df[us_movies_df['titleId'].isin(basics_df[basics_df['titleType'] == 'movie']['tconst'])]\n",
    "\n"
   ]
  },
  {
   "cell_type": "code",
   "execution_count": 16,
   "id": "ddc304af",
   "metadata": {},
   "outputs": [
    {
     "name": "stdout",
     "output_type": "stream",
     "text": [
      "Index(['titleId', 'ordering', 'title', 'region', 'language', 'types',\n",
      "       'attributes', 'isOriginalTitle'],\n",
      "      dtype='object')\n"
     ]
    }
   ],
   "source": [
    "# Print the column names in your DataFrame\n",
    "print(us_movies_df.columns)"
   ]
  },
  {
   "cell_type": "code",
   "execution_count": 17,
   "id": "347bbcc8",
   "metadata": {},
   "outputs": [],
   "source": [
    "# Drop rows with missing values for 'genres' or 'runtimeMinutes' in 'basics_df'\n",
    "basics_df = basics_df.dropna(subset=['genres', 'runtimeMinutes'])"
   ]
  },
  {
   "cell_type": "code",
   "execution_count": 18,
   "id": "235f7370",
   "metadata": {},
   "outputs": [],
   "source": [
    "# Filter 'akas_df' for movies released in the United States\n",
    "us_movies_df = akas_df[akas_df['region'] == 'US']\n"
   ]
  },
  {
   "cell_type": "code",
   "execution_count": 19,
   "id": "a46e27ef",
   "metadata": {},
   "outputs": [],
   "source": [
    "# Filter out movies with missing genre or runtime\n",
    "us_movies_df = us_movies_df[us_movies_df['titleId'].isin(basics_df['tconst'])]"
   ]
  },
  {
   "cell_type": "code",
   "execution_count": 20,
   "id": "fb6e81d7",
   "metadata": {},
   "outputs": [],
   "source": [
    "# Exclude movies from the Documentary genre\n",
    "us_movies_df = us_movies_df[~us_movies_df['titleId'].isin(basics_df[basics_df['genres'].str.contains('Documentary')]['tconst'])]"
   ]
  },
  {
   "cell_type": "code",
   "execution_count": 21,
   "id": "14b07a85",
   "metadata": {},
   "outputs": [
    {
     "data": {
      "text/html": [
       "<div>\n",
       "<style scoped>\n",
       "    .dataframe tbody tr th:only-of-type {\n",
       "        vertical-align: middle;\n",
       "    }\n",
       "\n",
       "    .dataframe tbody tr th {\n",
       "        vertical-align: top;\n",
       "    }\n",
       "\n",
       "    .dataframe thead th {\n",
       "        text-align: right;\n",
       "    }\n",
       "</style>\n",
       "<table border=\"1\" class=\"dataframe\">\n",
       "  <thead>\n",
       "    <tr style=\"text-align: right;\">\n",
       "      <th></th>\n",
       "      <th>titleId</th>\n",
       "      <th>ordering</th>\n",
       "      <th>title</th>\n",
       "      <th>region</th>\n",
       "      <th>language</th>\n",
       "      <th>types</th>\n",
       "      <th>attributes</th>\n",
       "      <th>isOriginalTitle</th>\n",
       "    </tr>\n",
       "  </thead>\n",
       "  <tbody>\n",
       "    <tr>\n",
       "      <th>14</th>\n",
       "      <td>tt0000002</td>\n",
       "      <td>7</td>\n",
       "      <td>The Clown and His Dogs</td>\n",
       "      <td>US</td>\n",
       "      <td>\\N</td>\n",
       "      <td>\\N</td>\n",
       "      <td>literal English title</td>\n",
       "      <td>0</td>\n",
       "    </tr>\n",
       "    <tr>\n",
       "      <th>33</th>\n",
       "      <td>tt0000005</td>\n",
       "      <td>10</td>\n",
       "      <td>Blacksmith Scene</td>\n",
       "      <td>US</td>\n",
       "      <td>\\N</td>\n",
       "      <td>imdbDisplay</td>\n",
       "      <td>\\N</td>\n",
       "      <td>0</td>\n",
       "    </tr>\n",
       "    <tr>\n",
       "      <th>36</th>\n",
       "      <td>tt0000005</td>\n",
       "      <td>1</td>\n",
       "      <td>Blacksmithing Scene</td>\n",
       "      <td>US</td>\n",
       "      <td>\\N</td>\n",
       "      <td>alternative</td>\n",
       "      <td>\\N</td>\n",
       "      <td>0</td>\n",
       "    </tr>\n",
       "    <tr>\n",
       "      <th>41</th>\n",
       "      <td>tt0000005</td>\n",
       "      <td>6</td>\n",
       "      <td>Blacksmith Scene #1</td>\n",
       "      <td>US</td>\n",
       "      <td>\\N</td>\n",
       "      <td>alternative</td>\n",
       "      <td>\\N</td>\n",
       "      <td>0</td>\n",
       "    </tr>\n",
       "    <tr>\n",
       "      <th>42</th>\n",
       "      <td>tt0000005</td>\n",
       "      <td>7</td>\n",
       "      <td>Blacksmithing</td>\n",
       "      <td>US</td>\n",
       "      <td>\\N</td>\n",
       "      <td>\\N</td>\n",
       "      <td>informal alternative title</td>\n",
       "      <td>0</td>\n",
       "    </tr>\n",
       "  </tbody>\n",
       "</table>\n",
       "</div>"
      ],
      "text/plain": [
       "      titleId  ordering                   title region language        types  \\\n",
       "14  tt0000002         7  The Clown and His Dogs     US       \\N           \\N   \n",
       "33  tt0000005        10        Blacksmith Scene     US       \\N  imdbDisplay   \n",
       "36  tt0000005         1     Blacksmithing Scene     US       \\N  alternative   \n",
       "41  tt0000005         6     Blacksmith Scene #1     US       \\N  alternative   \n",
       "42  tt0000005         7           Blacksmithing     US       \\N           \\N   \n",
       "\n",
       "                    attributes isOriginalTitle  \n",
       "14       literal English title               0  \n",
       "33                          \\N               0  \n",
       "36                          \\N               0  \n",
       "41                          \\N               0  \n",
       "42  informal alternative title               0  "
      ]
     },
     "execution_count": 21,
     "metadata": {},
     "output_type": "execute_result"
    }
   ],
   "source": [
    "us_movies_df.head()"
   ]
  },
  {
   "cell_type": "code",
   "execution_count": 22,
   "id": "2aa5d2e0",
   "metadata": {},
   "outputs": [
    {
     "name": "stdout",
     "output_type": "stream",
     "text": [
      "<class 'pandas.core.frame.DataFrame'>\n",
      "Int64Index: 1278300 entries, 14 to 37255016\n",
      "Data columns (total 8 columns):\n",
      " #   Column           Non-Null Count    Dtype \n",
      "---  ------           --------------    ----- \n",
      " 0   titleId          1278300 non-null  object\n",
      " 1   ordering         1278300 non-null  int64 \n",
      " 2   title            1278300 non-null  object\n",
      " 3   region           1278300 non-null  object\n",
      " 4   language         1278300 non-null  object\n",
      " 5   types            1278300 non-null  object\n",
      " 6   attributes       1278300 non-null  object\n",
      " 7   isOriginalTitle  1278300 non-null  object\n",
      "dtypes: int64(1), object(7)\n",
      "memory usage: 87.8+ MB\n"
     ]
    }
   ],
   "source": [
    "us_movies_df.info()"
   ]
  },
  {
   "cell_type": "code",
   "execution_count": 14,
   "id": "aeed6261",
   "metadata": {},
   "outputs": [],
   "source": [
    "\n",
    "# Save the filtered DataFrame as a gzip-compressed CSV file\n",
    "us_movies_df.to_csv('us_movies_filtered.csv.gz', compression='gzip', index=False)\n"
   ]
  },
  {
   "cell_type": "code",
   "execution_count": null,
   "id": "72335b70",
   "metadata": {},
   "outputs": [],
   "source": []
  }
 ],
 "metadata": {
  "kernelspec": {
   "display_name": "Python 3 (ipykernel)",
   "language": "python",
   "name": "python3"
  },
  "language_info": {
   "codemirror_mode": {
    "name": "ipython",
    "version": 3
   },
   "file_extension": ".py",
   "mimetype": "text/x-python",
   "name": "python",
   "nbconvert_exporter": "python",
   "pygments_lexer": "ipython3",
   "version": "3.11.4"
  },
  "toc": {
   "base_numbering": 1,
   "nav_menu": {},
   "number_sections": false,
   "sideBar": true,
   "skip_h1_title": false,
   "title_cell": "Table of Contents",
   "title_sidebar": "Contents",
   "toc_cell": false,
   "toc_position": {},
   "toc_section_display": true,
   "toc_window_display": false
  }
 },
 "nbformat": 4,
 "nbformat_minor": 5
}
