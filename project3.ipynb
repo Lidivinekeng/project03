{
 "cells": [
  {
   "cell_type": "code",
   "execution_count": 1,
   "id": "c5cbe355",
   "metadata": {},
   "outputs": [],
   "source": [
    "import pandas as pd\n",
    "\n"
   ]
  },
  {
   "cell_type": "code",
   "execution_count": 2,
   "id": "65747723",
   "metadata": {},
   "outputs": [],
   "source": [
    "# Load the data into Pandas DataFrames\n",
    "title_basics  = pd.read_csv('/Users/lidiv/project03/title.basics.tsv.gz', sep='\\t', low_memory=False)\n",
    "title_ratings = pd.read_csv('/Users/lidiv/project03/title.ratings.tsv.gz', sep='\\t', low_memory=False)\n",
    "title_akas = pd.read_csv('/Users/lidiv/project03/title.akas.tsv.gz', sep='\\t', low_memory=False)\n",
    "\n"
   ]
  },
  {
   "cell_type": "code",
   "execution_count": 4,
   "id": "32ccde2c",
   "metadata": {},
   "outputs": [
    {
     "name": "stdout",
     "output_type": "stream",
     "text": [
      "title_basics info:\n",
      "<class 'pandas.core.frame.DataFrame'>\n",
      "RangeIndex: 10176402 entries, 0 to 10176401\n",
      "Data columns (total 9 columns):\n",
      " #   Column          Dtype \n",
      "---  ------          ----- \n",
      " 0   tconst          object\n",
      " 1   titleType       object\n",
      " 2   primaryTitle    object\n",
      " 3   originalTitle   object\n",
      " 4   isAdult         object\n",
      " 5   startYear       object\n",
      " 6   endYear         object\n",
      " 7   runtimeMinutes  object\n",
      " 8   genres          object\n",
      "dtypes: object(9)\n",
      "memory usage: 698.8+ MB\n",
      "None\n",
      "title_ratings info:\n",
      "<class 'pandas.core.frame.DataFrame'>\n",
      "RangeIndex: 1351320 entries, 0 to 1351319\n",
      "Data columns (total 3 columns):\n",
      " #   Column         Non-Null Count    Dtype  \n",
      "---  ------         --------------    -----  \n",
      " 0   tconst         1351320 non-null  object \n",
      " 1   averageRating  1351320 non-null  float64\n",
      " 2   numVotes       1351320 non-null  int64  \n",
      "dtypes: float64(1), int64(1), object(1)\n",
      "memory usage: 30.9+ MB\n",
      "None\n"
     ]
    }
   ],
   "source": [
    "# Print info for each dataframe\n",
    "print(\"title_basics info:\")\n",
    "print(title_basics.info())\n",
    "\n",
    "print(\"title_ratings info:\")\n",
    "print(title_ratings.info())\n"
   ]
  },
  {
   "cell_type": "code",
   "execution_count": 5,
   "id": "7a990b65",
   "metadata": {},
   "outputs": [
    {
     "name": "stdout",
     "output_type": "stream",
     "text": [
      "Index(['tconst', 'titleType', 'primaryTitle', 'originalTitle', 'isAdult',\n",
      "       'startYear', 'endYear', 'runtimeMinutes', 'genres'],\n",
      "      dtype='object')\n",
      "Index(['tconst', 'averageRating', 'numVotes'], dtype='object')\n",
      "Index(['titleId', 'ordering', 'title', 'region', 'language', 'types',\n",
      "       'attributes', 'isOriginalTitle'],\n",
      "      dtype='object')\n"
     ]
    }
   ],
   "source": [
    "print(title_basics.columns)\n",
    "print(title_ratings.columns)\n",
    "print(title_akas.columns)"
   ]
  },
  {
   "cell_type": "code",
   "execution_count": 6,
   "id": "29bdce9f",
   "metadata": {},
   "outputs": [],
   "source": [
    "# Filter movies released in the United States\n",
    "title_akas = title_akas[title_akas['region'] == 'US']"
   ]
  },
  {
   "cell_type": "code",
   "execution_count": 7,
   "id": "272fd89a",
   "metadata": {},
   "outputs": [],
   "source": [
    "# Convert startYear and endYear columns to numeric\n",
    "title_basics['startYear'] = pd.to_numeric(title_basics['startYear'], errors='coerce')\n",
    "title_basics['endYear'] = pd.to_numeric(title_basics['endYear'], errors='coerce')\n"
   ]
  },
  {
   "cell_type": "code",
   "execution_count": 8,
   "id": "604c00fe",
   "metadata": {},
   "outputs": [],
   "source": [
    "# Filter full-length movies\n",
    "title_basics = title_basics[title_basics['titleType'] == 'movie']"
   ]
  },
  {
   "cell_type": "code",
   "execution_count": 9,
   "id": "d630a88a",
   "metadata": {},
   "outputs": [],
   "source": [
    "# Exclude movies from the Documentary genre\n",
    "title_basics = title_basics[~title_basics['genres'].str.contains('Documentary', na=False)]"
   ]
  },
  {
   "cell_type": "code",
   "execution_count": 10,
   "id": "b99dd832",
   "metadata": {},
   "outputs": [],
   "source": [
    "# Filter movies released between 2000 and 2021\n",
    "title_basics = title_basics[(title_basics['startYear'] >= 2000) & (title_basics['startYear'] <= 2021)]"
   ]
  },
  {
   "cell_type": "code",
   "execution_count": 11,
   "id": "5adba9d2",
   "metadata": {},
   "outputs": [],
   "source": [
    "# Remove movies with missing values for genre or runtime\n",
    "title_basics = title_basics.dropna(subset=['genres', 'runtimeMinutes'])"
   ]
  },
  {
   "cell_type": "code",
   "execution_count": 12,
   "id": "5f52f8cc",
   "metadata": {},
   "outputs": [],
   "source": [
    "# Filter title_akas based on filtered title_basics\n",
    "title_akas = title_akas[title_akas['titleId'].isin(title_basics['tconst'])]"
   ]
  },
  {
   "cell_type": "code",
   "execution_count": 13,
   "id": "77ecc490",
   "metadata": {},
   "outputs": [],
   "source": [
    "# Filter title_ratings based on filtered title_basics\n",
    "title_ratings = title_ratings[title_ratings['tconst'].isin(title_basics['tconst'])]"
   ]
  },
  {
   "cell_type": "code",
   "execution_count": 14,
   "id": "0d8f9808",
   "metadata": {},
   "outputs": [],
   "source": [
    "# Filter title_akas based on filtered title_basics\n",
    "title_akas = title_akas[title_akas['titleId'].isin(title_basics['tconst'])]"
   ]
  },
  {
   "cell_type": "code",
   "execution_count": 17,
   "id": "744969cb",
   "metadata": {},
   "outputs": [],
   "source": [
    "# Save filtered dataframes to compressed CSV files\n",
    "title_basics.to_csv('Data/title_basic_filtered.csv.gz', index=False, compression='gzip')\n",
    "title_ratings.to_csv('Data/title_rating_filtered.csv.gz', index=False, compression='gzip')\n",
    "title_akas.to_csv('Data/title_akas_filtereds.csv.gz', index=False, compression='gzip')\n"
   ]
  },
  {
   "cell_type": "code",
   "execution_count": null,
   "id": "72335b70",
   "metadata": {},
   "outputs": [],
   "source": []
  }
 ],
 "metadata": {
  "kernelspec": {
   "display_name": "Python 3 (ipykernel)",
   "language": "python",
   "name": "python3"
  },
  "language_info": {
   "codemirror_mode": {
    "name": "ipython",
    "version": 3
   },
   "file_extension": ".py",
   "mimetype": "text/x-python",
   "name": "python",
   "nbconvert_exporter": "python",
   "pygments_lexer": "ipython3",
   "version": "3.11.4"
  },
  "toc": {
   "base_numbering": 1,
   "nav_menu": {},
   "number_sections": false,
   "sideBar": true,
   "skip_h1_title": false,
   "title_cell": "Table of Contents",
   "title_sidebar": "Contents",
   "toc_cell": false,
   "toc_position": {},
   "toc_section_display": true,
   "toc_window_display": false
  }
 },
 "nbformat": 4,
 "nbformat_minor": 5
}
